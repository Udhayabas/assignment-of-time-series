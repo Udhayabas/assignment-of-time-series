{
 "cells": [
  {
   "cell_type": "code",
   "execution_count": 1,
   "id": "65af80e9",
   "metadata": {},
   "outputs": [],
   "source": [
    "import pandas as pd"
   ]
  },
  {
   "cell_type": "code",
   "execution_count": 2,
   "id": "d7ffd0e8",
   "metadata": {},
   "outputs": [],
   "source": [
    "stk_data=pd.read_csv(\"Tatacoffee13_21.csv\")"
   ]
  },
  {
   "cell_type": "code",
   "execution_count": 3,
   "id": "86bf46df",
   "metadata": {},
   "outputs": [
    {
     "data": {
      "text/html": [
       "<div>\n",
       "<style scoped>\n",
       "    .dataframe tbody tr th:only-of-type {\n",
       "        vertical-align: middle;\n",
       "    }\n",
       "\n",
       "    .dataframe tbody tr th {\n",
       "        vertical-align: top;\n",
       "    }\n",
       "\n",
       "    .dataframe thead th {\n",
       "        text-align: right;\n",
       "    }\n",
       "</style>\n",
       "<table border=\"1\" class=\"dataframe\">\n",
       "  <thead>\n",
       "    <tr style=\"text-align: right;\">\n",
       "      <th></th>\n",
       "      <th>Date</th>\n",
       "      <th>Open</th>\n",
       "      <th>High</th>\n",
       "      <th>Low</th>\n",
       "      <th>Close</th>\n",
       "    </tr>\n",
       "  </thead>\n",
       "  <tbody>\n",
       "    <tr>\n",
       "      <th>0</th>\n",
       "      <td>2013-01-01</td>\n",
       "      <td>1410.60</td>\n",
       "      <td>1427.90</td>\n",
       "      <td>1408.30</td>\n",
       "      <td>1415.10</td>\n",
       "    </tr>\n",
       "    <tr>\n",
       "      <th>1</th>\n",
       "      <td>2013-01-02</td>\n",
       "      <td>1421.00</td>\n",
       "      <td>1626.60</td>\n",
       "      <td>1416.15</td>\n",
       "      <td>1607.40</td>\n",
       "    </tr>\n",
       "    <tr>\n",
       "      <th>2</th>\n",
       "      <td>2013-01-03</td>\n",
       "      <td>1632.55</td>\n",
       "      <td>1673.90</td>\n",
       "      <td>1613.05</td>\n",
       "      <td>1626.20</td>\n",
       "    </tr>\n",
       "    <tr>\n",
       "      <th>3</th>\n",
       "      <td>2013-01-04</td>\n",
       "      <td>1627.75</td>\n",
       "      <td>1627.75</td>\n",
       "      <td>1574.60</td>\n",
       "      <td>1579.05</td>\n",
       "    </tr>\n",
       "    <tr>\n",
       "      <th>4</th>\n",
       "      <td>2013-01-07</td>\n",
       "      <td>1580.00</td>\n",
       "      <td>1639.50</td>\n",
       "      <td>1565.50</td>\n",
       "      <td>1595.65</td>\n",
       "    </tr>\n",
       "    <tr>\n",
       "      <th>...</th>\n",
       "      <td>...</td>\n",
       "      <td>...</td>\n",
       "      <td>...</td>\n",
       "      <td>...</td>\n",
       "      <td>...</td>\n",
       "    </tr>\n",
       "    <tr>\n",
       "      <th>2220</th>\n",
       "      <td>2021-12-22</td>\n",
       "      <td>202.90</td>\n",
       "      <td>207.80</td>\n",
       "      <td>201.35</td>\n",
       "      <td>205.00</td>\n",
       "    </tr>\n",
       "    <tr>\n",
       "      <th>2221</th>\n",
       "      <td>2021-12-23</td>\n",
       "      <td>206.00</td>\n",
       "      <td>206.85</td>\n",
       "      <td>202.05</td>\n",
       "      <td>202.95</td>\n",
       "    </tr>\n",
       "    <tr>\n",
       "      <th>2222</th>\n",
       "      <td>2021-12-24</td>\n",
       "      <td>203.90</td>\n",
       "      <td>203.90</td>\n",
       "      <td>199.35</td>\n",
       "      <td>201.00</td>\n",
       "    </tr>\n",
       "    <tr>\n",
       "      <th>2223</th>\n",
       "      <td>2021-12-27</td>\n",
       "      <td>200.00</td>\n",
       "      <td>222.00</td>\n",
       "      <td>196.00</td>\n",
       "      <td>218.35</td>\n",
       "    </tr>\n",
       "    <tr>\n",
       "      <th>2224</th>\n",
       "      <td>2021-12-28</td>\n",
       "      <td>219.65</td>\n",
       "      <td>220.45</td>\n",
       "      <td>211.55</td>\n",
       "      <td>212.35</td>\n",
       "    </tr>\n",
       "  </tbody>\n",
       "</table>\n",
       "<p>2225 rows × 5 columns</p>\n",
       "</div>"
      ],
      "text/plain": [
       "            Date     Open     High      Low    Close\n",
       "0     2013-01-01  1410.60  1427.90  1408.30  1415.10\n",
       "1     2013-01-02  1421.00  1626.60  1416.15  1607.40\n",
       "2     2013-01-03  1632.55  1673.90  1613.05  1626.20\n",
       "3     2013-01-04  1627.75  1627.75  1574.60  1579.05\n",
       "4     2013-01-07  1580.00  1639.50  1565.50  1595.65\n",
       "...          ...      ...      ...      ...      ...\n",
       "2220  2021-12-22   202.90   207.80   201.35   205.00\n",
       "2221  2021-12-23   206.00   206.85   202.05   202.95\n",
       "2222  2021-12-24   203.90   203.90   199.35   201.00\n",
       "2223  2021-12-27   200.00   222.00   196.00   218.35\n",
       "2224  2021-12-28   219.65   220.45   211.55   212.35\n",
       "\n",
       "[2225 rows x 5 columns]"
      ]
     },
     "execution_count": 3,
     "metadata": {},
     "output_type": "execute_result"
    }
   ],
   "source": [
    "stk_data"
   ]
  },
  {
   "cell_type": "code",
   "execution_count": null,
   "id": "e7673ec4",
   "metadata": {},
   "outputs": [],
   "source": []
  },
  {
   "cell_type": "code",
   "execution_count": 4,
   "id": "185be413",
   "metadata": {},
   "outputs": [],
   "source": [
    "stk_data=stk_data[[\"Open\",\"High\",\"Low\",\"Close\"]]\n",
    "#stk_data.to_csv(\"Tatacoffee13_21.csv\")"
   ]
  },
  {
   "cell_type": "code",
   "execution_count": 5,
   "id": "704900aa",
   "metadata": {},
   "outputs": [
    {
     "name": "stdout",
     "output_type": "stream",
     "text": [
      "Len: (2225, 4)\n"
     ]
    }
   ],
   "source": [
    "from sklearn.preprocessing import MinMaxScaler\n",
    "Ms = MinMaxScaler()\n",
    "data1= Ms.fit_transform(stk_data)\n",
    "print(\"Len:\",data1.shape)"
   ]
  },
  {
   "cell_type": "code",
   "execution_count": 6,
   "id": "49f5d033",
   "metadata": {},
   "outputs": [],
   "source": [
    "data1=pd.DataFrame(data1,columns=[\"Open\",\"High\",\"Low\",\"Close\"])"
   ]
  },
  {
   "cell_type": "code",
   "execution_count": 7,
   "id": "5f73e92b",
   "metadata": {},
   "outputs": [
    {
     "data": {
      "text/html": [
       "<div>\n",
       "<style scoped>\n",
       "    .dataframe tbody tr th:only-of-type {\n",
       "        vertical-align: middle;\n",
       "    }\n",
       "\n",
       "    .dataframe tbody tr th {\n",
       "        vertical-align: top;\n",
       "    }\n",
       "\n",
       "    .dataframe thead th {\n",
       "        text-align: right;\n",
       "    }\n",
       "</style>\n",
       "<table border=\"1\" class=\"dataframe\">\n",
       "  <thead>\n",
       "    <tr style=\"text-align: right;\">\n",
       "      <th></th>\n",
       "      <th>Open</th>\n",
       "      <th>High</th>\n",
       "      <th>Low</th>\n",
       "      <th>Close</th>\n",
       "    </tr>\n",
       "  </thead>\n",
       "  <tbody>\n",
       "    <tr>\n",
       "      <th>0</th>\n",
       "      <td>0.849900</td>\n",
       "      <td>0.845408</td>\n",
       "      <td>0.856100</td>\n",
       "      <td>0.854203</td>\n",
       "    </tr>\n",
       "    <tr>\n",
       "      <th>1</th>\n",
       "      <td>0.856394</td>\n",
       "      <td>0.967399</td>\n",
       "      <td>0.861040</td>\n",
       "      <td>0.974481</td>\n",
       "    </tr>\n",
       "    <tr>\n",
       "      <th>2</th>\n",
       "      <td>0.988480</td>\n",
       "      <td>0.996439</td>\n",
       "      <td>0.984959</td>\n",
       "      <td>0.986240</td>\n",
       "    </tr>\n",
       "    <tr>\n",
       "      <th>3</th>\n",
       "      <td>0.985483</td>\n",
       "      <td>0.968105</td>\n",
       "      <td>0.960760</td>\n",
       "      <td>0.956749</td>\n",
       "    </tr>\n",
       "    <tr>\n",
       "      <th>4</th>\n",
       "      <td>0.955669</td>\n",
       "      <td>0.975319</td>\n",
       "      <td>0.955033</td>\n",
       "      <td>0.967132</td>\n",
       "    </tr>\n",
       "    <tr>\n",
       "      <th>...</th>\n",
       "      <td>...</td>\n",
       "      <td>...</td>\n",
       "      <td>...</td>\n",
       "      <td>...</td>\n",
       "    </tr>\n",
       "    <tr>\n",
       "      <th>2220</th>\n",
       "      <td>0.095842</td>\n",
       "      <td>0.096329</td>\n",
       "      <td>0.096510</td>\n",
       "      <td>0.097323</td>\n",
       "    </tr>\n",
       "    <tr>\n",
       "      <th>2221</th>\n",
       "      <td>0.097777</td>\n",
       "      <td>0.095745</td>\n",
       "      <td>0.096951</td>\n",
       "      <td>0.096041</td>\n",
       "    </tr>\n",
       "    <tr>\n",
       "      <th>2222</th>\n",
       "      <td>0.096466</td>\n",
       "      <td>0.093934</td>\n",
       "      <td>0.095252</td>\n",
       "      <td>0.094821</td>\n",
       "    </tr>\n",
       "    <tr>\n",
       "      <th>2223</th>\n",
       "      <td>0.094031</td>\n",
       "      <td>0.105047</td>\n",
       "      <td>0.093143</td>\n",
       "      <td>0.105673</td>\n",
       "    </tr>\n",
       "    <tr>\n",
       "      <th>2224</th>\n",
       "      <td>0.106300</td>\n",
       "      <td>0.104095</td>\n",
       "      <td>0.102930</td>\n",
       "      <td>0.101920</td>\n",
       "    </tr>\n",
       "  </tbody>\n",
       "</table>\n",
       "<p>2225 rows × 4 columns</p>\n",
       "</div>"
      ],
      "text/plain": [
       "          Open      High       Low     Close\n",
       "0     0.849900  0.845408  0.856100  0.854203\n",
       "1     0.856394  0.967399  0.861040  0.974481\n",
       "2     0.988480  0.996439  0.984959  0.986240\n",
       "3     0.985483  0.968105  0.960760  0.956749\n",
       "4     0.955669  0.975319  0.955033  0.967132\n",
       "...        ...       ...       ...       ...\n",
       "2220  0.095842  0.096329  0.096510  0.097323\n",
       "2221  0.097777  0.095745  0.096951  0.096041\n",
       "2222  0.096466  0.093934  0.095252  0.094821\n",
       "2223  0.094031  0.105047  0.093143  0.105673\n",
       "2224  0.106300  0.104095  0.102930  0.101920\n",
       "\n",
       "[2225 rows x 4 columns]"
      ]
     },
     "execution_count": 7,
     "metadata": {},
     "output_type": "execute_result"
    }
   ],
   "source": [
    "data1"
   ]
  },
  {
   "cell_type": "code",
   "execution_count": 8,
   "id": "47bfcf7f",
   "metadata": {},
   "outputs": [
    {
     "name": "stdout",
     "output_type": "stream",
     "text": [
      "1780\n",
      "X_train length: (1780, 4)\n",
      "X_test length: (445, 4)\n",
      "y_train length: (1780, 4)\n",
      "y_test length: (445, 4)\n"
     ]
    }
   ],
   "source": [
    "training_size = round(len(data1 ) * 0.80)\n",
    "print(training_size)\n",
    "X_train=data1[:training_size]\n",
    "X_test=data1[training_size:]\n",
    "print(\"X_train length:\",X_train.shape)\n",
    "print(\"X_test length:\",X_test.shape)\n",
    "y_train=data1[:training_size]\n",
    "y_test=data1[training_size:]\n",
    "print(\"y_train length:\",y_train.shape)\n",
    "print(\"y_test length:\",y_test.shape)"
   ]
  },
  {
   "cell_type": "code",
   "execution_count": 12,
   "id": "d5b5f415",
   "metadata": {},
   "outputs": [],
   "source": [
    "from statsmodels.tsa.api import VAR\n",
    "from sklearn.preprocessing import MinMaxScaler\n",
    "from sklearn.metrics import mean_squared_error\n",
    "import numpy as np\n",
    "import matplotlib.pyplot as plt"
   ]
  },
  {
   "cell_type": "code",
   "execution_count": 13,
   "id": "73592b79",
   "metadata": {},
   "outputs": [],
   "source": [
    "import warnings\n",
    "warnings.filterwarnings(\"ignore\")"
   ]
  },
  {
   "cell_type": "code",
   "execution_count": 14,
   "id": "608dbe70",
   "metadata": {},
   "outputs": [],
   "source": [
    "performance={\"Model\":[],\"RMSE\":[],\"MaPe\":[],\"Lag\":[],\"Test\":[]}"
   ]
  },
  {
   "cell_type": "code",
   "execution_count": 15,
   "id": "a3c7d7b8",
   "metadata": {},
   "outputs": [],
   "source": [
    "# Fit the VAR model\n",
    "model = VAR(X_train)\n",
    "optimal_order = 5  # You can choose the optimal order based on criteria like AIC or BIC\n",
    "var_model = model.fit(optimal_order)\n"
   ]
  },
  {
   "cell_type": "code",
   "execution_count": 16,
   "id": "0a7594d5",
   "metadata": {},
   "outputs": [],
   "source": [
    "# Forecast the next five days\n",
    "forecast = var_model.forecast(y_train.values[-optimal_order:], steps=5)\n",
    "forecast_df = pd.DataFrame(forecast, columns=[\"Open\", \"High\", \"Low\", \"Close\"])\n"
   ]
  },
  {
   "cell_type": "code",
   "execution_count": 17,
   "id": "2c782e7f",
   "metadata": {},
   "outputs": [
    {
     "name": "stdout",
     "output_type": "stream",
     "text": [
      "Next five days forecast:\n",
      "        Open       High        Low      Close\n",
      "0  68.843706  71.055211  65.745397  67.825615\n",
      "1  68.880734  71.024616  66.774374  69.431082\n",
      "2  70.527433  71.678239  67.903954  69.185686\n",
      "3  69.639665  71.353153  68.247468  69.642640\n",
      "4  69.813511  71.115486  67.621614  69.219885\n"
     ]
    }
   ],
   "source": [
    "# Inverse transform the forecast to the original scale\n",
    "forecast_original_scale = Ms.inverse_transform(forecast_df)\n",
    "forecast_original_scale = pd.DataFrame(forecast_original_scale, columns=[\"Open\", \"High\", \"Low\", \"Close\"])\n",
    "print(\"Next five days forecast:\")\n",
    "print(forecast_original_scale)\n"
   ]
  },
  {
   "cell_type": "code",
   "execution_count": 18,
   "id": "9283700d",
   "metadata": {},
   "outputs": [],
   "source": [
    "# Evaluate the model\n",
    "pred = var_model.forecast(X_test.values, steps=len(X_test))\n",
    "pred_df = pd.DataFrame(pred, columns=[\"Open\", \"High\", \"Low\", \"Close\"])\n"
   ]
  },
  {
   "cell_type": "code",
   "execution_count": 19,
   "id": "4a1cd171",
   "metadata": {},
   "outputs": [
    {
     "name": "stdout",
     "output_type": "stream",
     "text": [
      "Open:\n",
      "  Mean Squared Error (MSE): 0.0023895808525276913\n",
      "  Root Mean Squared Error (RMSE): 0.04888333921212514\n",
      "  Mean Absolute Percentage Error (MAPE): nan%\n",
      "High:\n",
      "  Mean Squared Error (MSE): 0.0023771330738652434\n",
      "  Root Mean Squared Error (RMSE): 0.04875585168844088\n",
      "  Mean Absolute Percentage Error (MAPE): nan%\n",
      "Low:\n",
      "  Mean Squared Error (MSE): 0.002360279999983232\n",
      "  Root Mean Squared Error (RMSE): 0.04858271297471182\n",
      "  Mean Absolute Percentage Error (MAPE): nan%\n",
      "Close:\n",
      "  Mean Squared Error (MSE): 0.0023842241328892173\n",
      "  Root Mean Squared Error (RMSE): 0.04882851761920709\n",
      "  Mean Absolute Percentage Error (MAPE): nan%\n"
     ]
    }
   ],
   "source": [
    "for col in data1.columns:\n",
    "    mse = mean_squared_error(X_test[col], pred_df[col])\n",
    "    rmse = np.sqrt(mse)\n",
    "    mape = np.mean(np.abs((X_test[col] - pred_df[col]) / X_test[col])) * 100\n",
    "    print(f'{col}:')\n",
    "    print(f'  Mean Squared Error (MSE): {mse}')\n",
    "    print(f'  Root Mean Squared Error (RMSE): {rmse}')\n",
    "    print(f'  Mean Absolute Percentage Error (MAPE): {mape}%')\n"
   ]
  },
  {
   "cell_type": "code",
   "execution_count": 20,
   "id": "8e4b421f",
   "metadata": {},
   "outputs": [
    {
     "data": {
      "image/png": "[encoded data removed]",
      "text/plain": [
       "<Figure size 1000x600 with 4 Axes>"
      ]
     },
     "metadata": {},
     "output_type": "display_data"
    }
   ],
   "source": [
    "# Plot the results\n",
    "plt.figure(figsize=(10, 6))\n",
    "\n",
    "for i, col in enumerate(data1.columns):\n",
    "    plt.subplot(len(data1.columns), 1, i+1)\n",
    "    plt.plot(X_train.index, X_train[col], label='Train')\n",
    "    plt.plot(X_test.index, X_test[col], label='Test')\n",
    "    plt.plot(pred_df.index, pred_df[col], label='Forecast')\n",
    "    plt.title(col)\n",
    "    plt.legend()\n",
    "\n",
    "plt.tight_layout()\n",
    "plt.show()\n"
   ]
  },
  {
   "cell_type": "code",
   "execution_count": null,
   "id": "66ad55c6",
   "metadata": {},
   "outputs": [],
   "source": []
  },
  {
   "cell_type": "code",
   "execution_count": null,
   "id": "21fa83f9",
   "metadata": {},
   "outputs": [],
   "source": []
  }
 ],
 "metadata": {
  "kernelspec": {
   "display_name": "Python 3 (ipykernel)",
   "language": "python",
   "name": "python3"
  },
  "language_info": {
   "codemirror_mode": {
    "name": "ipython",
    "version": 3
   },
   "file_extension": ".py",
   "mimetype": "text/x-python",
   "name": "python",
   "nbconvert_exporter": "python",
   "pygments_lexer": "ipython3",
   "version": "3.7.16"
  }
 },
 "nbformat": 4,
 "nbformat_minor": 5
}
